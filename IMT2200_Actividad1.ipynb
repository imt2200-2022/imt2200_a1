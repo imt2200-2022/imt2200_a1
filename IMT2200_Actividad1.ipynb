{
 "cells": [
  {
   "cell_type": "markdown",
   "metadata": {},
   "source": [
    "# <img style=\"float: left; padding-right: 20px; width: 100px\" src=\"https://upload.wikimedia.org/wikipedia/commons/thumb/8/84/Escudo_de_la_Pontificia_Universidad_Cat%C3%B3lica_de_Chile.svg/1920px-Escudo_de_la_Pontificia_Universidad_Cat%C3%B3lica_de_Chile.svg.png\"> IMT 2200 - Introducción a Ciencia de Datos\n",
    "**Pontificia Universidad Católica de Chile**<br>\n",
    "**Semestre 2022-1**<br>\n",
    "**Profesora:** Paula Aguirre <br>\n",
    "\n",
    "----"
   ]
  },
  {
   "cell_type": "markdown",
   "metadata": {},
   "source": [
    "# <h1><center>Actividad 1: Herramientas Computacionales para Ciencia de Datos </center></h1>\n",
    "    \n",
    "## 1. Objetivos de Aprendizaje\n",
    "\n",
    "Esta Actividad es un ejercicio de prueba, y tiene como objetivo probar el ambiente de programación de cada estudiante, la instalación de librerías de Python y la configuración de su repositorio, mediante la entrega y ejecución de un Jupyter Notebook de ejemplo. \n",
    "\n",
    "Esta Tarea sólo requiere conocimientos generales de programación en Python, \n"
   ]
  },
  {
   "cell_type": "markdown",
   "metadata": {},
   "source": [
    "## 2. Módulos de Python\n",
    "\n",
    "### 2.1 Importación de módulos.\n",
    "\n",
    "Todos los Notebooks y códigos deberían comenzar con la importación de módulos, o librerías de funciones built-in para distintos usos. Para facilitar la referencia a librerías en el resto del código, se acostumbra asignarles un alias. La sintaxis general a usar para importar un módulo es:\n",
    "\n",
    "\n",
    "``import NOMBRE_MODULO as ALIAS_MODULO``"
   ]
  },
  {
   "cell_type": "code",
   "execution_count": null,
   "metadata": {},
   "outputs": [],
   "source": [
    "#Importación de librerías: importe las siguientes librerías, usando alias comunes: numpy, pandas, geopandas\n",
    "import numpy as np\n",
    "import pandas as pd\n",
    "import geopandas as gpd\n",
    "import matplotlib.pyplot as plt\n"
   ]
  },
  {
   "cell_type": "markdown",
   "metadata": {},
   "source": [
    "## 3. Ejercicio de Prueba: Inspección de Datos del Censo 2017."
   ]
  },
  {
   "cell_type": "markdown",
   "metadata": {},
   "source": [
    "El código a continuación permite descargar, leer, hacer algunos cálculos básicos y visualizar los datos de población del Censo chileno de 2017 para la región metropolitana. En este notebook, ud. sólo debe ejecutar las celdas de código a continuación, hasta generar una figura con la distribución de población total por manzana censal en la RM. \n",
    "Como demostración de la ejecución exitosa del código, sólo debe submitir esta figura final a su repositorio de Github.\n"
   ]
  },
  {
   "cell_type": "code",
   "execution_count": null,
   "metadata": {},
   "outputs": [],
   "source": [
    "#Leer archivo enun DataFrame\n",
    "dat=pd.read_csv('Censo2017_Manzanas.csv',delimiter=';')\n",
    "\n",
    "#Visualizar las primeras lineas\n",
    "dat.head()\n"
   ]
  },
  {
   "cell_type": "code",
   "execution_count": null,
   "metadata": {},
   "outputs": [],
   "source": [
    "dat.info()"
   ]
  },
  {
   "cell_type": "markdown",
   "metadata": {},
   "source": [
    "### ¿Cuál era la población total de Chile en 2017?\n",
    "\n",
    "Para responder esta pregunta, podemos hacer un cálculo sencillo y sumar todos los datos de la columna `PERSONAS`:"
   ]
  },
  {
   "cell_type": "code",
   "execution_count": null,
   "metadata": {},
   "outputs": [],
   "source": [
    "#Total de población\n",
    "total_pop=dat['PERSONAS'].sum()\n",
    "print('Población total en 2017:',total_pop)"
   ]
  },
  {
   "cell_type": "markdown",
   "metadata": {},
   "source": [
    "También podemos usar algunas funciones más avanzadas de `pandas`para analizar la distribución de personas por región y edad:"
   ]
  },
  {
   "cell_type": "code",
   "execution_count": null,
   "metadata": {},
   "outputs": [],
   "source": [
    "#Distribución por edad y género\n",
    "cols=['EDAD_0A5','EDAD_6A14','EDAD_15A64','EDAD_65YMAS']\n",
    "for col in cols:\n",
    "    dat[col]=dat[col].replace('*',0).astype(float)\n",
    "    \n",
    "pv=pd.pivot_table(dat,index='REGION',values=cols,aggfunc = np.sum,margins=False)\n",
    "pv"
   ]
  },
  {
   "cell_type": "code",
   "execution_count": null,
   "metadata": {},
   "outputs": [],
   "source": [
    "fig=plt.figure(figsize=(12,6))\n",
    "ax=fig.add_subplot(111)\n",
    "ax.set_ylabel('Número de personas')\n",
    "fig.suptitle('Distribución de población por Edad y Región (Chile, Censo 2017)')\n",
    "pv.plot(kind='bar',ax =ax);"
   ]
  },
  {
   "cell_type": "markdown",
   "metadata": {},
   "source": [
    "A continuación, usaremos la cartografía central para generar una figura o mapa con la distribución de población total por manzana censal en la región metropolitana (RM):"
   ]
  },
  {
   "cell_type": "code",
   "execution_count": null,
   "metadata": {},
   "outputs": [],
   "source": [
    "#Leer datos censales\n",
    "manz=gpd.read_file('R13/MANZANA_IND_C17.shp')\n",
    "com=gpd.read_file('R13/COMUNA_C17.shp')"
   ]
  },
  {
   "cell_type": "code",
   "execution_count": null,
   "metadata": {},
   "outputs": [],
   "source": [
    "from mpl_toolkits.axes_grid1 import make_axes_locatable\n",
    "import matplotlib.colors as colors\n",
    "\n",
    "#Crear figura y ejes\n",
    "fig=plt.figure(figsize=(20,20))\n",
    "ax=fig.add_subplot(111)\n",
    "divider = make_axes_locatable(ax)\n",
    "cax = divider.append_axes(\"right\", size=\"5%\", pad=0.1)\n",
    "\n",
    "#Leer datos censales\n",
    "manz=gpd.read_file('R13/MANZANA_IND_C17.shp')\n",
    "com=gpd.read_file('R13/COMUNA_C17.shp')\n",
    "\n",
    "\n",
    "Z=manz['TOTAL_PERS']\n",
    "manz.plot(ax=ax,column='TOTAL_PERS',cmap='Reds',legend=True, vmin=0,vmax=1000,cax=cax)\n",
    "\n",
    "com.boundary.plot(ax=ax,lw=0.2,color='k')\n",
    "\n",
    "xlim=[-70.9,-70.4]\n",
    "ylim=[-33.7,-33.2]\n",
    "for x, y, label in zip(com.geometry.centroid.x, com.geometry.centroid.y, com.NOM_COMUNA):\n",
    "    if xlim[0]<x<xlim[1] and ylim[0]<y<ylim[1]:\n",
    "        ax.text(x, y, label, fontsize = 10)\n",
    "        \n",
    "ax.set_xlim(xlim)\n",
    "ax.set_ylim(ylim);\n",
    "\n",
    "ax.set_title('RM - Población total por manzana censal',fontsize=14)\n",
    "\n",
    "## Reemplace 'XXX' por su apellido en el nombre del archivo de salida \n",
    "fig.savefig('PoblacionRM_C2017_XXXX.jpg')"
   ]
  },
  {
   "cell_type": "code",
   "execution_count": null,
   "metadata": {},
   "outputs": [],
   "source": []
  }
 ],
 "metadata": {
  "kernelspec": {
   "display_name": "Python 3",
   "language": "python",
   "name": "python3"
  },
  "language_info": {
   "codemirror_mode": {
    "name": "ipython",
    "version": 3
   },
   "file_extension": ".py",
   "mimetype": "text/x-python",
   "name": "python",
   "nbconvert_exporter": "python",
   "pygments_lexer": "ipython3",
   "version": "3.8.8"
  }
 },
 "nbformat": 4,
 "nbformat_minor": 2
}
